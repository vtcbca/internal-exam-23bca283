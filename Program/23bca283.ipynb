{
 "cells": [
  {
   "cell_type": "code",
   "execution_count": 1,
   "id": "96f777c1",
   "metadata": {},
   "outputs": [],
   "source": [
    "f=open(\"D://23bca283//sqlite3//csv//python.txt\",\"w\")"
   ]
  },
  {
   "cell_type": "code",
   "execution_count": 3,
   "id": "2144c5bf",
   "metadata": {},
   "outputs": [
    {
     "name": "stdout",
     "output_type": "stream",
     "text": [
      "python is a programming language\n",
      "\n"
     ]
    }
   ],
   "source": [
    "line=[]\n",
    "while True:\n",
    "    l=input()\n",
    "    if l:\n",
    "        line.append(l+'\\n')\n",
    "    else:\n",
    "        break\n",
    "python='\\n'.join(line)"
   ]
  },
  {
   "cell_type": "code",
   "execution_count": 4,
   "id": "1566aa15",
   "metadata": {},
   "outputs": [],
   "source": [
    "f.writelines(line)"
   ]
  },
  {
   "cell_type": "code",
   "execution_count": 5,
   "id": "5617d351",
   "metadata": {},
   "outputs": [],
   "source": [
    "f.close()"
   ]
  },
  {
   "cell_type": "code",
   "execution_count": 6,
   "id": "468b3d17",
   "metadata": {},
   "outputs": [],
   "source": [
    "f=open(\"D://23bca283//sqlite3//csv//python.txt\",\"r\")"
   ]
  },
  {
   "cell_type": "code",
   "execution_count": 10,
   "id": "381c1444",
   "metadata": {},
   "outputs": [
    {
     "name": "stdout",
     "output_type": "stream",
     "text": [
      "\n",
      "\n",
      "e\n",
      "g\n",
      "a\n",
      "u\n",
      "g\n",
      "n\n",
      "a\n",
      "l\n",
      " \n",
      "g\n",
      "n\n",
      "i\n",
      "m\n",
      "m\n",
      "a\n",
      "r\n",
      "g\n",
      "o\n",
      "r\n",
      "p\n",
      " \n",
      "a\n",
      " \n",
      "s\n",
      "i\n",
      " \n",
      "n\n",
      "o\n",
      "h\n",
      "t\n",
      "y\n",
      "p\n"
     ]
    }
   ],
   "source": [
    "for line in reversed(python):\n",
    "    print(line)"
   ]
  },
  {
   "cell_type": "code",
   "execution_count": 11,
   "id": "9d9a9ff1",
   "metadata": {},
   "outputs": [],
   "source": [
    "f.close()"
   ]
  },
  {
   "cell_type": "code",
   "execution_count": null,
   "id": "2fafb2b6",
   "metadata": {},
   "outputs": [],
   "source": []
  }
 ],
 "metadata": {
  "kernelspec": {
   "display_name": "Python 3 (ipykernel)",
   "language": "python",
   "name": "python3"
  },
  "language_info": {
   "codemirror_mode": {
    "name": "ipython",
    "version": 3
   },
   "file_extension": ".py",
   "mimetype": "text/x-python",
   "name": "python",
   "nbconvert_exporter": "python",
   "pygments_lexer": "ipython3",
   "version": "3.9.12"
  }
 },
 "nbformat": 4,
 "nbformat_minor": 5
}
